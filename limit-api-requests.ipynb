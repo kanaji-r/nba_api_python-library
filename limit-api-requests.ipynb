{
 "cells": [
  {
   "cell_type": "code",
   "execution_count": 1,
   "metadata": {},
   "outputs": [
    {
     "name": "stdout",
     "output_type": "stream",
     "text": [
      "HTTPSConnectionPool(host='api.nba.net', port=443): Max retries exceeded with url: /stats/players?api_key=your_api_key_here (Caused by SSLError(CertificateError(\"hostname 'api.nba.net' doesn't match either of 'www.turner.com', '*.adultswim.com', '*.cdn.adultswim.com', 'alwayshereforyou.com', '*.ben10.com', '*.bleacherreport.com', '*.cartoonnetwork.asia', '*.cartoonnetwork.com', '*.staging.cartoonnetwork.com', '*.cartoonnetworkasia.com', '*.cartoonnetworkkorea.com', '*.cartoonnetworkpr.com', 'celebrityshowoff.com', '*.celebrityshowoff.com', '*.chasingthecurelive.com', '*.cnn.com', '*.cerebro.api.cnn.com', '*.cdn.cnn.com', '*.go.cnn.com', '*.money.cnn.com', '*.cnn.io', '*.eleague.com', '*.filmstruck.com', '*.latamwbd.com', 'data.nba.net', '*.ncaa.com', '*.mml.ncaa.com', '*.mml-desktop.ncaa.com', '*.mml-web.ncaa.com', '*.turner.ncaa.com', '*.ngtv.io', '*.powerpufftheworld.com', '*.sambee.com', '*.stevenuniverseselfesteem.com', '*.superstation.com', '*.tbs.com', '*.cdn.tbs.com', '*.nycf.tbs.com', '*.tcm.com', '*.cdn.tcm.com', '*.ti-platform.com', '*.i.cdn.ti-platform.com', '*.tnt.tv', '*.tntdrama.com', '*.cdn.tntdrama.com', 'tournamentoflaughs.com', '*.tournamentoflaughs.com', '*.trutv.com', '*.cdn.trutv.com', '*.turner.com', '*.cdn.turner.com', '*.dynaimage.cdn.turner.com', 'warnerbrosdiscoveryready.com', '*.warnerbrosdiscoveryready.com', '*.warnermediacdn.com', '*.wbd.com', 'wbdready.com', '*.wbdready.com', 'turner.com'\")))\n"
     ]
    }
   ],
   "source": [
    "import requests\n",
    "import time\n",
    "\n",
    "API_KEY = 'your_api_key_here'\n",
    "API_ENDPOINT = 'https://api.nba.net/stats/'\n",
    "\n",
    "# 制限回数\n",
    "REQUEST_LIMIT = 100\n",
    "\n",
    "# カウンター\n",
    "request_count = 0\n",
    "\n",
    "# APIを呼び出す前に制限回数をチェックする\n",
    "def make_api_call(url):\n",
    "    global request_count\n",
    "    if request_count >= REQUEST_LIMIT:\n",
    "        print(\"API request limit reached\")\n",
    "        return None\n",
    "    else:\n",
    "        request_count += 1\n",
    "        response = requests.get(url)\n",
    "        return response\n",
    "\n",
    "# APIを呼び出す例\n",
    "def example_api_call():\n",
    "    url = API_ENDPOINT + 'players?api_key=' + API_KEY\n",
    "    response = make_api_call(url)\n",
    "    if response is not None:\n",
    "        # レスポンスを処理する\n",
    "        print(response.json())\n",
    "\n",
    "# 例外処理\n",
    "try:\n",
    "    example_api_call()\n",
    "    time.sleep(5) # APIに負荷をかけないように適切なウェイトを入れる\n",
    "except Exception as e:\n",
    "    print(e)\n",
    "\n",
    "# リクエストカウンターをリセットする\n",
    "def reset_request_counter():\n",
    "    global request_count\n",
    "    request_count = 0\n"
   ]
  }
 ],
 "metadata": {
  "kernelspec": {
   "display_name": "Python 3",
   "language": "python",
   "name": "python3"
  },
  "language_info": {
   "codemirror_mode": {
    "name": "ipython",
    "version": 3
   },
   "file_extension": ".py",
   "mimetype": "text/x-python",
   "name": "python",
   "nbconvert_exporter": "python",
   "pygments_lexer": "ipython3",
   "version": "3.11.0"
  },
  "orig_nbformat": 4
 },
 "nbformat": 4,
 "nbformat_minor": 2
}
